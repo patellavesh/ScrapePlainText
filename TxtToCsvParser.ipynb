{
 "cells": [
  {
   "cell_type": "code",
   "execution_count": 4,
   "metadata": {
    "collapsed": false
   },
   "outputs": [],
   "source": [
    "f = open('parser.txt', 'r')\n",
    "lines = f.readlines()\n",
    "f.close()\n"
   ]
  },
  {
   "cell_type": "code",
   "execution_count": 18,
   "metadata": {
    "collapsed": true
   },
   "outputs": [],
   "source": [
    "def find_between( s, first, last ):\n",
    "    try:\n",
    "        start = s.index( first ) + len( first )\n",
    "        end = s.index( last, start )\n",
    "        return s[start:end]\n",
    "    except ValueError:\n",
    "        return \"\""
   ]
  },
  {
   "cell_type": "code",
   "execution_count": 51,
   "metadata": {
    "collapsed": false
   },
   "outputs": [],
   "source": [
    "import datetime\n",
    "import csv\n",
    "\n",
    "with open('test.csv', 'w') as csvfile:\n",
    "    csvWriter = csv.writer(csvfile, dialect='excel')\n",
    "    for i, item in enumerate(lines):\n",
    "        if 'DTSTART' in item: \n",
    "            date = find_between(item, 'DTSTART:','T')\n",
    "            date = datetime.datetime.strptime(date, '%Y%m%d').strftime('%m/%d/%y')\n",
    "        if 'DESCRIPTION' in item: \n",
    "            email = find_between(item, 'DESCRIPTION:','07')\n",
    "            number = find_between(item, '.com ','\\\\n')\n",
    "        if 'TRANSP:' in item:\n",
    "            RESULTS = [date,email,number]\n",
    "            csvWriter.writerow(RESULTS)"
   ]
  },
  {
   "cell_type": "code",
   "execution_count": 28,
   "metadata": {
    "collapsed": false
   },
   "outputs": [
    {
     "data": {
      "text/plain": [
       "['BEGIN:VEVENT\\n',\n",
       " 'DTSTART:20180215T083000Z\\n',\n",
       " 'DTEND:20180215T093000Z\\n',\n",
       " 'DTSTAMP:20180213T203858Z\\n',\n",
       " 'UID:53076gn5ih0sufohjofee1@google.com\\n',\n",
       " 'CREATED:20180213T153516Z\\n',\n",
       " 'DESCRIPTION:sample@email.com 07000500500\\\\n\\\\n-::~:~::~:~:~:~:~:~:~:~\\n',\n",
       " ' :~:~:~:~:~:~:~:~:~:~:~:~:~:~:~:~:~:~:~:~:~:~:~:~:~:~:~:~::~:~::-\\\\nPlease do\\n',\n",
       " '  not edit this section of the description.\\\\n\\\\nThis event has a Google Hango\\n',\n",
       " ' uts video call.\\\\nJoin: https://plus.google.com/hangouts/_/j.co.uk\\n',\n",
       " ' /trx?hceid=am9hbsssY28udWtfN3Zyc2RnYWg5cWVxZHBtNWdicW52dsjg5cTBAZ\\n',\n",
       " ' 3JvdXAuY2FsZW5kYXIuafs26llvn5ih0bluufohjofee1&hs=121\\\\n-::~:~\\n',\n",
       " ' ::~:~:~:~:~:~:~:~:~:~:~:~:~:~:~:~:~:~:~:~:~:~:~:~:~:~:~:~:~:~:~:~:~:~:~:~::\\n',\n",
       " ' ~:~::-\\n',\n",
       " 'LAST-MODIFIED:20180213T153516Z\\n',\n",
       " 'LOCATION:\\n',\n",
       " 'SEQUENCE:0\\n',\n",
       " 'STATUS:CONFIRMED\\n',\n",
       " 'SUMMARY:tes\\n',\n",
       " 'TRANSP:OPAQUE\\n',\n",
       " 'END:VEVENT\\n',\n",
       " 'BEGIN:VEVENT\\n',\n",
       " 'DTSTART:20180215T083000Z\\n',\n",
       " 'DTEND:20180215T093000Z\\n',\n",
       " 'DTSTAMP:20180213T203858Z\\n',\n",
       " 'UID:53076gn5ih0sufohjofee1@google.com\\n',\n",
       " 'CREATED:20180213T153516Z\\n',\n",
       " 'DESCRIPTION:sample@email.com 07000500500\\\\n\\\\n-::~:~::~:~:~:~:~:~:~:~\\n',\n",
       " ' :~:~:~:~:~:~:~:~:~:~:~:~:~:~:~:~:~:~:~:~:~:~:~:~:~:~:~:~::~:~::-\\\\nPlease do\\n',\n",
       " '  not edit this section of the description.\\\\n\\\\nThis event has a Google Hango\\n',\n",
       " ' uts video call.\\\\nJoin: https://plus.google.com/hangouts/_/j.co.uk\\n',\n",
       " ' /trx?hceid=am9hbsssY28udWtfN3Zyc2RnYWg5cWVxZHBtNWdicW52dsjg5cTBAZ\\n',\n",
       " ' 3JvdXAuY2FsZW5kYXIuafs26llvn5ih0bluufohjofee1&hs=121\\\\n-::~:~\\n',\n",
       " ' ::~:~:~:~:~:~:~:~:~:~:~:~:~:~:~:~:~:~:~:~:~:~:~:~:~:~:~:~:~:~:~:~:~:~:~:~::\\n',\n",
       " ' ~:~::-\\n',\n",
       " 'LAST-MODIFIED:20180213T153516Z\\n',\n",
       " 'LOCATION:\\n',\n",
       " 'SEQUENCE:0\\n',\n",
       " 'STATUS:CONFIRMED\\n',\n",
       " 'SUMMARY:tes\\n',\n",
       " 'TRANSP:OPAQUE\\n',\n",
       " 'END:VEVENT']"
      ]
     },
     "execution_count": 28,
     "metadata": {},
     "output_type": "execute_result"
    }
   ],
   "source": [
    "lines"
   ]
  },
  {
   "cell_type": "code",
   "execution_count": null,
   "metadata": {
    "collapsed": true
   },
   "outputs": [],
   "source": []
  }
 ],
 "metadata": {
  "kernelspec": {
   "display_name": "Python 3",
   "language": "python",
   "name": "python3"
  },
  "language_info": {
   "codemirror_mode": {
    "name": "ipython",
    "version": 3
   },
   "file_extension": ".py",
   "mimetype": "text/x-python",
   "name": "python",
   "nbconvert_exporter": "python",
   "pygments_lexer": "ipython3",
   "version": "3.6.0"
  }
 },
 "nbformat": 4,
 "nbformat_minor": 2
}
